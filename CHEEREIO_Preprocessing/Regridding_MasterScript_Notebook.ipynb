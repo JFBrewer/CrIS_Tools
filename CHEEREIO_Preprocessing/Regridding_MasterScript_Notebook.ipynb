{
 "cells": [
  {
   "cell_type": "markdown",
   "id": "unavailable-equation",
   "metadata": {},
   "source": [
    "This script is built around the custom FilterClass code I built, available in FilterClass.py"
   ]
  },
  {
   "cell_type": "code",
   "execution_count": 1,
   "id": "descending-witch",
   "metadata": {},
   "outputs": [],
   "source": [
    "import FilterClass as fltr\n",
    "from datetime import datetime\n",
    "import xarray as xr\n",
    "import gcpy\n",
    "import copy"
   ]
  },
  {
   "cell_type": "markdown",
   "id": "personal-europe",
   "metadata": {},
   "source": [
    "First initialize the MapFilter Class, and set MaskToNaNs to true to set all ocean values to NaN instead of 0"
   ]
  },
  {
   "cell_type": "code",
   "execution_count": 2,
   "id": "residential-experiment",
   "metadata": {},
   "outputs": [],
   "source": [
    "Filterer = fltr.MapFilter\n",
    "Filterer.__init__(Filterer, MaskToNaNs=True)"
   ]
  },
  {
   "cell_type": "markdown",
   "id": "collected-headset",
   "metadata": {},
   "source": [
    "RangeToFilter is the range over which to run the iteration script"
   ]
  },
  {
   "cell_type": "code",
   "execution_count": 3,
   "id": "corresponding-facial",
   "metadata": {},
   "outputs": [
    {
     "data": {
      "text/plain": [
       "[datetime.datetime(2019, 8, 4, 0, 0), datetime.datetime(2019, 12, 31, 0, 0)]"
      ]
     },
     "execution_count": 3,
     "metadata": {},
     "output_type": "execute_result"
    }
   ],
   "source": [
    "RangeToFilter = [\"20190804\", \"20191231\"]\n",
    "RangeDatetimes = [datetime.strptime(date, '%Y%m%d') for date in RangeToFilter]\n",
    "RangeDatetimes"
   ]
  },
  {
   "cell_type": "markdown",
   "id": "durable-civilian",
   "metadata": {},
   "source": [
    "Targeted_Species specified which species we're examining, and FileForOutput is the directory where all output will be saved"
   ]
  },
  {
   "cell_type": "code",
   "execution_count": 4,
   "id": "seventh-binding",
   "metadata": {},
   "outputs": [],
   "source": [
    "Targeted_Species = \"Ethane\"\n",
    "DirForOutput = \"Filtered_CrIS_Outputs/{}\".format(Targeted_Species)\n",
    "#DirForOutput = \"/scratch.global/milletd/brewe222/data/Filtered_CrIS_Outputs/{}\".format(Targeted_Species)"
   ]
  },
  {
   "cell_type": "markdown",
   "id": "mysterious-aside",
   "metadata": {},
   "source": [
    "Window_Width will set the width of the window over which we will be averaging."
   ]
  },
  {
   "cell_type": "code",
   "execution_count": 5,
   "id": "medical-induction",
   "metadata": {},
   "outputs": [],
   "source": [
    "Window_Width = 2"
   ]
  },
  {
   "cell_type": "markdown",
   "id": "laden-cleaner",
   "metadata": {},
   "source": [
    "These lines establish the Custom-built L2L regridder. The regridder is customized here to the in- and out-resolutions, and over the customized extent. This is also where the regridding method used is specified. By default, it is \"bilinear\"."
   ]
  },
  {
   "cell_type": "code",
   "execution_count": 6,
   "id": "turned-robinson",
   "metadata": {},
   "outputs": [],
   "source": [
    "llres_in=\"0.5x0.625\"\n",
    "llres_out=\"2x2.5\"\n",
    "extent_out=[-180, 180, -90, 90]\n",
    "\n",
    "regridder = Filterer.custom_L2L_regridder(\n",
    "    llres_in=llres_in, \n",
    "    llres_out= llres_out)"
   ]
  },
  {
   "cell_type": "markdown",
   "id": "valuable-adobe",
   "metadata": {},
   "source": [
    "This loop is where the magic happens:"
   ]
  },
  {
   "cell_type": "code",
   "execution_count": 7,
   "id": "welsh-coupon",
   "metadata": {},
   "outputs": [
    {
     "name": "stdout",
     "output_type": "stream",
     "text": [
      "  \n",
      "Processing 2019-08-04\n",
      "====================================================================================================\n",
      "Multiple files supplied. Columns represent 5 days worth of data\n",
      "====================================================================================================\n",
      "Saving Filtered_CrIS_Outputs/Ethane/Regrid_2x2.5_20190804_Ethane_Column.nc\n",
      "  \n"
     ]
    }
   ],
   "source": [
    "for day in fltr.daily_iterator(RangeDatetimes[0], RangeDatetimes[1]):\n",
    "    print(\"  \")\n",
    "    print(f\"Processing {day.strftime('%Y-%m-%d')}\")\n",
    "    Averaged_Data = Filterer.get_column(\n",
    "        Filterer, \n",
    "        longspeciesname=Targeted_Species, \n",
    "        date_targeted=day,\n",
    "        window_width=Window_Width\n",
    "    )\n",
    "    \n",
    "    Masked_Data = copy.deepcopy(Averaged_Data)\n",
    "    Masked_Data['Column'] = Filterer.run_Landfilter(Filterer, column_array=Averaged_Data['Column'])\n",
    "    \n",
    "    Regridded_Data = Filterer.Regrid_CrIS(\n",
    "        Filterer,\n",
    "        regridder=regridder,\n",
    "        dataset_to_regrid=Masked_Data,\n",
    "        targetdatetime=day,\n",
    "        llres_out=llres_out,\n",
    "        extent=extent_out\n",
    "    )\n",
    "    \n",
    "    print_date = day.strftime('%Y%m%d')\n",
    "    save_name=f'{DirForOutput}/Regrid_{llres_out}_{print_date}_{Targeted_Species}_Column.nc'\n",
    "    print(f'Saving {save_name}')\n",
    "    print(\"  \")\n",
    "    Regridded_Data.to_netcdf(save_name)"
   ]
  },
  {
   "cell_type": "code",
   "execution_count": null,
   "id": "bridal-leonard",
   "metadata": {},
   "outputs": [],
   "source": []
  }
 ],
 "metadata": {
  "kernelspec": {
   "display_name": "gcpy_env",
   "language": "python",
   "name": "gcpy_env"
  },
  "language_info": {
   "codemirror_mode": {
    "name": "ipython",
    "version": 3
   },
   "file_extension": ".py",
   "mimetype": "text/x-python",
   "name": "python",
   "nbconvert_exporter": "python",
   "pygments_lexer": "ipython3",
   "version": "3.9.18"
  }
 },
 "nbformat": 4,
 "nbformat_minor": 5
}
